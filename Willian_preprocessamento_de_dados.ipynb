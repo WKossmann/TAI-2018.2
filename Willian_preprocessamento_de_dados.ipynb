{
  "nbformat": 4,
  "nbformat_minor": 0,
  "metadata": {
    "colab": {
      "name": "Willian - preprocessamento de dados.ipynb",
      "version": "0.3.2",
      "views": {},
      "default_view": {},
      "provenance": [
        {
          "file_id": "1J3-jnp7-en_OjvCG-He8UcD-Or8g_nxm",
          "timestamp": 1533767331120
        },
        {
          "file_id": "1Sqv63P_7Ven4zi9Nxw3030cDrQaoVu_R",
          "timestamp": 1533762370373
        }
      ],
      "collapsed_sections": []
    },
    "kernelspec": {
      "name": "python3",
      "display_name": "Python 3"
    }
  },
  "cells": [
    {
      "metadata": {
        "id": "8cAga3RWg8_V",
        "colab_type": "code",
        "colab": {
          "autoexec": {
            "startup": false,
            "wait_interval": 0
          },
          "base_uri": "https://localhost:8080/",
          "height": 34
        },
        "outputId": "f8582dfd-595f-46e0-fa23-faf6fc3e1b47",
        "executionInfo": {
          "status": "ok",
          "timestamp": 1533767476076,
          "user_tz": 180,
          "elapsed": 1944,
          "user": {
            "displayName": "Willian Kossmann",
            "photoUrl": "//lh3.googleusercontent.com/-o9rAelxpcq0/AAAAAAAAAAI/AAAAAAAAFKQ/-AyH1VkrN14/s50-c-k-no/photo.jpg",
            "userId": "101963853082170280862"
          }
        }
      },
      "cell_type": "code",
      "source": [
        "import os\n",
        "import tarfile\n",
        "from six.moves import urllib\n",
        "\n",
        "FILE_TO_DOWNLOAD =  \"Salary_Data.csv\"\n",
        "DOWNLOAD_ROOT = \"https://github.com/ect-info/ml/raw/master/\"\n",
        "DATA_PATH = \"dados/\"\n",
        "DATA_URL = DOWNLOAD_ROOT + DATA_PATH + FILE_TO_DOWNLOAD\n",
        "\n",
        "def fetch_data(data_url=DATA_URL, data_path=DATA_PATH, file_to_download=FILE_TO_DOWNLOAD):\n",
        "  if not os.path.isdir(data_path):\n",
        "    os.makedirs(data_path)\n",
        "  urllib.request.urlretrieve(data_url, data_path+\"Salary_Data.csv\")\n",
        "  \n",
        "  \n",
        "fetch_data()\n",
        "\n",
        "# observando se o diretório datasets foi criado com sucesso \n",
        "!ls dados"
      ],
      "execution_count": 2,
      "outputs": [
        {
          "output_type": "stream",
          "text": [
            "Salary_Data.csv\r\n"
          ],
          "name": "stdout"
        }
      ]
    },
    {
      "metadata": {
        "id": "1Tf97FnLkKZz",
        "colab_type": "code",
        "colab": {
          "autoexec": {
            "startup": false,
            "wait_interval": 0
          },
          "base_uri": "https://localhost:8080/",
          "height": 204
        },
        "outputId": "85b99e35-0edd-4cd3-b365-b5484de2afc8",
        "executionInfo": {
          "status": "ok",
          "timestamp": 1533767477188,
          "user_tz": 180,
          "elapsed": 702,
          "user": {
            "displayName": "Willian Kossmann",
            "photoUrl": "//lh3.googleusercontent.com/-o9rAelxpcq0/AAAAAAAAAAI/AAAAAAAAFKQ/-AyH1VkrN14/s50-c-k-no/photo.jpg",
            "userId": "101963853082170280862"
          }
        }
      },
      "cell_type": "code",
      "source": [
        "import pandas as pd\n",
        "\n",
        "def load_data(data_path=DATA_PATH, file_to_download=FILE_TO_DOWNLOAD):\n",
        "  csv_path = os.path.join(data_path,file_to_download)\n",
        "  return pd.read_csv(csv_path)\n",
        "\n",
        "salary_data = load_data()\n",
        "\n",
        "salary_data.head()\n"
      ],
      "execution_count": 3,
      "outputs": [
        {
          "output_type": "execute_result",
          "data": {
            "text/html": [
              "<div>\n",
              "<style scoped>\n",
              "    .dataframe tbody tr th:only-of-type {\n",
              "        vertical-align: middle;\n",
              "    }\n",
              "\n",
              "    .dataframe tbody tr th {\n",
              "        vertical-align: top;\n",
              "    }\n",
              "\n",
              "    .dataframe thead th {\n",
              "        text-align: right;\n",
              "    }\n",
              "</style>\n",
              "<table border=\"1\" class=\"dataframe\">\n",
              "  <thead>\n",
              "    <tr style=\"text-align: right;\">\n",
              "      <th></th>\n",
              "      <th>YearsExperience</th>\n",
              "      <th>Salary</th>\n",
              "    </tr>\n",
              "  </thead>\n",
              "  <tbody>\n",
              "    <tr>\n",
              "      <th>0</th>\n",
              "      <td>1.1</td>\n",
              "      <td>39343.0</td>\n",
              "    </tr>\n",
              "    <tr>\n",
              "      <th>1</th>\n",
              "      <td>1.3</td>\n",
              "      <td>46205.0</td>\n",
              "    </tr>\n",
              "    <tr>\n",
              "      <th>2</th>\n",
              "      <td>1.5</td>\n",
              "      <td>37731.0</td>\n",
              "    </tr>\n",
              "    <tr>\n",
              "      <th>3</th>\n",
              "      <td>2.0</td>\n",
              "      <td>43525.0</td>\n",
              "    </tr>\n",
              "    <tr>\n",
              "      <th>4</th>\n",
              "      <td>2.2</td>\n",
              "      <td>39891.0</td>\n",
              "    </tr>\n",
              "  </tbody>\n",
              "</table>\n",
              "</div>"
            ],
            "text/plain": [
              "   YearsExperience   Salary\n",
              "0              1.1  39343.0\n",
              "1              1.3  46205.0\n",
              "2              1.5  37731.0\n",
              "3              2.0  43525.0\n",
              "4              2.2  39891.0"
            ]
          },
          "metadata": {
            "tags": []
          },
          "execution_count": 3
        }
      ]
    },
    {
      "metadata": {
        "id": "bhwciaHxPmVd",
        "colab_type": "code",
        "colab": {
          "autoexec": {
            "startup": false,
            "wait_interval": 0
          },
          "base_uri": "https://localhost:8080/",
          "height": 297
        },
        "outputId": "a67f7785-91d5-4fa5-d132-4d099e24e5ed",
        "executionInfo": {
          "status": "ok",
          "timestamp": 1533767483246,
          "user_tz": 180,
          "elapsed": 805,
          "user": {
            "displayName": "Willian Kossmann",
            "photoUrl": "//lh3.googleusercontent.com/-o9rAelxpcq0/AAAAAAAAAAI/AAAAAAAAFKQ/-AyH1VkrN14/s50-c-k-no/photo.jpg",
            "userId": "101963853082170280862"
          }
        }
      },
      "cell_type": "code",
      "source": [
        "salary_data.describe()"
      ],
      "execution_count": 4,
      "outputs": [
        {
          "output_type": "execute_result",
          "data": {
            "text/html": [
              "<div>\n",
              "<style scoped>\n",
              "    .dataframe tbody tr th:only-of-type {\n",
              "        vertical-align: middle;\n",
              "    }\n",
              "\n",
              "    .dataframe tbody tr th {\n",
              "        vertical-align: top;\n",
              "    }\n",
              "\n",
              "    .dataframe thead th {\n",
              "        text-align: right;\n",
              "    }\n",
              "</style>\n",
              "<table border=\"1\" class=\"dataframe\">\n",
              "  <thead>\n",
              "    <tr style=\"text-align: right;\">\n",
              "      <th></th>\n",
              "      <th>YearsExperience</th>\n",
              "      <th>Salary</th>\n",
              "    </tr>\n",
              "  </thead>\n",
              "  <tbody>\n",
              "    <tr>\n",
              "      <th>count</th>\n",
              "      <td>30.000000</td>\n",
              "      <td>30.000000</td>\n",
              "    </tr>\n",
              "    <tr>\n",
              "      <th>mean</th>\n",
              "      <td>5.313333</td>\n",
              "      <td>76003.000000</td>\n",
              "    </tr>\n",
              "    <tr>\n",
              "      <th>std</th>\n",
              "      <td>2.837888</td>\n",
              "      <td>27414.429785</td>\n",
              "    </tr>\n",
              "    <tr>\n",
              "      <th>min</th>\n",
              "      <td>1.100000</td>\n",
              "      <td>37731.000000</td>\n",
              "    </tr>\n",
              "    <tr>\n",
              "      <th>25%</th>\n",
              "      <td>3.200000</td>\n",
              "      <td>56720.750000</td>\n",
              "    </tr>\n",
              "    <tr>\n",
              "      <th>50%</th>\n",
              "      <td>4.700000</td>\n",
              "      <td>65237.000000</td>\n",
              "    </tr>\n",
              "    <tr>\n",
              "      <th>75%</th>\n",
              "      <td>7.700000</td>\n",
              "      <td>100544.750000</td>\n",
              "    </tr>\n",
              "    <tr>\n",
              "      <th>max</th>\n",
              "      <td>10.500000</td>\n",
              "      <td>122391.000000</td>\n",
              "    </tr>\n",
              "  </tbody>\n",
              "</table>\n",
              "</div>"
            ],
            "text/plain": [
              "       YearsExperience         Salary\n",
              "count        30.000000      30.000000\n",
              "mean          5.313333   76003.000000\n",
              "std           2.837888   27414.429785\n",
              "min           1.100000   37731.000000\n",
              "25%           3.200000   56720.750000\n",
              "50%           4.700000   65237.000000\n",
              "75%           7.700000  100544.750000\n",
              "max          10.500000  122391.000000"
            ]
          },
          "metadata": {
            "tags": []
          },
          "execution_count": 4
        }
      ]
    },
    {
      "metadata": {
        "id": "GRnr82Ayqgl4",
        "colab_type": "code",
        "colab": {
          "autoexec": {
            "startup": false,
            "wait_interval": 0
          }
        }
      },
      "cell_type": "code",
      "source": [
        "import matplotlib.pyplot as plt\n",
        "import numpy as np\n",
        "from sklearn import datasets, linear_model\n",
        "from sklearn.utils import shuffle\n",
        "from sklearn.metrics import mean_squared_error, r2_score"
      ],
      "execution_count": 0,
      "outputs": []
    },
    {
      "metadata": {
        "id": "y1jb__kJq9MW",
        "colab_type": "code",
        "colab": {
          "autoexec": {
            "startup": false,
            "wait_interval": 0
          },
          "base_uri": "https://localhost:8080/",
          "height": 85
        },
        "outputId": "521d63d2-a96f-416b-e293-5425becc8a00",
        "executionInfo": {
          "status": "ok",
          "timestamp": 1533770520948,
          "user_tz": 180,
          "elapsed": 725,
          "user": {
            "displayName": "Willian Kossmann",
            "photoUrl": "//lh3.googleusercontent.com/-o9rAelxpcq0/AAAAAAAAAAI/AAAAAAAAFKQ/-AyH1VkrN14/s50-c-k-no/photo.jpg",
            "userId": "101963853082170280862"
          }
        }
      },
      "cell_type": "code",
      "source": [
        "salary_data = shuffle(salary_data)\n",
        "X = salary_data.iloc[:,:-1].values\n",
        "Y = salary_data.iloc[:,1].values\n",
        "\n",
        "x_train = X[:5,:]\n",
        "x_test = X[-25:,:]\n",
        "\n",
        "y_train = Y[:5]\n",
        "y_test = Y[-25:]\n",
        "\n",
        "print(y_train)\n",
        "print(y_test)"
      ],
      "execution_count": 64,
      "outputs": [
        {
          "output_type": "stream",
          "text": [
            "[ 63218. 121872. 116969. 122391.  66029.]\n",
            "[ 39891.  57081.  56957. 101302.  67938.  54445. 112635.  81363. 105582.\n",
            "  61111.  64445.  39343.  55794.  91738.  46205. 113812.  43525.  60150.\n",
            "  56642.  98273.  93940.  57189.  83088.  37731. 109431.]\n"
          ],
          "name": "stdout"
        }
      ]
    },
    {
      "metadata": {
        "id": "HKlEDDKjsz6P",
        "colab_type": "code",
        "colab": {
          "autoexec": {
            "startup": false,
            "wait_interval": 0
          }
        }
      },
      "cell_type": "code",
      "source": [
        "regr = linear_model.LinearRegression()"
      ],
      "execution_count": 0,
      "outputs": []
    },
    {
      "metadata": {
        "id": "-nosucwTs9w3",
        "colab_type": "code",
        "colab": {
          "autoexec": {
            "startup": false,
            "wait_interval": 0
          },
          "base_uri": "https://localhost:8080/",
          "height": 34
        },
        "outputId": "c8bce7f7-8d9c-43e3-b0ea-715c62b71777",
        "executionInfo": {
          "status": "ok",
          "timestamp": 1533770523046,
          "user_tz": 180,
          "elapsed": 769,
          "user": {
            "displayName": "Willian Kossmann",
            "photoUrl": "//lh3.googleusercontent.com/-o9rAelxpcq0/AAAAAAAAAAI/AAAAAAAAFKQ/-AyH1VkrN14/s50-c-k-no/photo.jpg",
            "userId": "101963853082170280862"
          }
        }
      },
      "cell_type": "code",
      "source": [
        "regr.fit(x_train, y_train)"
      ],
      "execution_count": 66,
      "outputs": [
        {
          "output_type": "execute_result",
          "data": {
            "text/plain": [
              "LinearRegression(copy_X=True, fit_intercept=True, n_jobs=1, normalize=False)"
            ]
          },
          "metadata": {
            "tags": []
          },
          "execution_count": 66
        }
      ]
    },
    {
      "metadata": {
        "id": "tctiOAWwx0g_",
        "colab_type": "code",
        "colab": {
          "autoexec": {
            "startup": false,
            "wait_interval": 0
          },
          "base_uri": "https://localhost:8080/",
          "height": 136
        },
        "outputId": "c588533f-f10a-4799-fb5d-db0de5b33454",
        "executionInfo": {
          "status": "ok",
          "timestamp": 1533770524065,
          "user_tz": 180,
          "elapsed": 673,
          "user": {
            "displayName": "Willian Kossmann",
            "photoUrl": "//lh3.googleusercontent.com/-o9rAelxpcq0/AAAAAAAAAAI/AAAAAAAAFKQ/-AyH1VkrN14/s50-c-k-no/photo.jpg",
            "userId": "101963853082170280862"
          }
        }
      },
      "cell_type": "code",
      "source": [
        "y_pred = regr.predict(x_test)\n",
        "print(y_pred)"
      ],
      "execution_count": 67,
      "outputs": [
        {
          "output_type": "stream",
          "text": [
            "[ 42877.35084293  61413.57935855  60437.98838405  98486.0363898\n",
            "  69218.30715461  52633.26058799 115071.08295641  78974.21689967\n",
            " 109217.53710937  65315.94325658  52633.26058799  32145.85012336\n",
            "  60437.98838405  87754.53567023  34097.03207237 101412.80931332\n",
            "  40926.16889391  50682.07863898  49706.48766447  90681.30859375\n",
            "  79949.80787418  57511.21546053  73120.67105263  36048.21402138\n",
            " 106290.76418586]\n"
          ],
          "name": "stdout"
        }
      ]
    },
    {
      "metadata": {
        "id": "rfrzsJrCyCDA",
        "colab_type": "code",
        "colab": {
          "autoexec": {
            "startup": false,
            "wait_interval": 0
          },
          "base_uri": "https://localhost:8080/",
          "height": 330
        },
        "outputId": "2509a97a-9dcc-4c62-dc09-f80ce67f0351",
        "executionInfo": {
          "status": "ok",
          "timestamp": 1533770525015,
          "user_tz": 180,
          "elapsed": 669,
          "user": {
            "displayName": "Willian Kossmann",
            "photoUrl": "//lh3.googleusercontent.com/-o9rAelxpcq0/AAAAAAAAAAI/AAAAAAAAFKQ/-AyH1VkrN14/s50-c-k-no/photo.jpg",
            "userId": "101963853082170280862"
          }
        }
      },
      "cell_type": "code",
      "source": [
        "plt.scatter(x_test, y_test,  color='black')\n",
        "plt.plot(x_test, y_pred, color='blue', linewidth=3)\n",
        "\n",
        "plt.xticks(())\n",
        "plt.yticks(())\n",
        "\n",
        "plt.show()"
      ],
      "execution_count": 68,
      "outputs": [
        {
          "output_type": "display_data",
          "data": {
            "image/png": "[encoded data removed]",
            "text/plain": [
              "<matplotlib.figure.Figure at 0x7f1ac6925e48>"
            ]
          },
          "metadata": {
            "tags": []
          }
        }
      ]
    },
    {
      "metadata": {
        "id": "mHm4VqZRylbv",
        "colab_type": "code",
        "colab": {
          "autoexec": {
            "startup": false,
            "wait_interval": 0
          },
          "base_uri": "https://localhost:8080/",
          "height": 85
        },
        "outputId": "25acdaa4-d9b8-4fc8-cd25-9f55565ac7ed",
        "executionInfo": {
          "status": "ok",
          "timestamp": 1533770525909,
          "user_tz": 180,
          "elapsed": 623,
          "user": {
            "displayName": "Willian Kossmann",
            "photoUrl": "//lh3.googleusercontent.com/-o9rAelxpcq0/AAAAAAAAAAI/AAAAAAAAFKQ/-AyH1VkrN14/s50-c-k-no/photo.jpg",
            "userId": "101963853082170280862"
          }
        }
      },
      "cell_type": "code",
      "source": [
        "# The coefficients\n",
        "print('Coefficients: \\n', regr.coef_)\n",
        "# The mean squared error\n",
        "print(\"Mean squared error: %.2f\"\n",
        "      % mean_squared_error(y_test, y_pred))\n",
        "# Explained variance score: 1 is perfect prediction\n",
        "print('Variance score: %.2f' % r2_score(y_test, y_pred))"
      ],
      "execution_count": 69,
      "outputs": [
        {
          "output_type": "stream",
          "text": [
            "Coefficients: \n",
            " [9755.90974507]\n",
            "Mean squared error: 45371658.60\n",
            "Variance score: 0.92\n"
          ],
          "name": "stdout"
        }
      ]
    }
  ]
}